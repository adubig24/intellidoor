{
 "cells": [
  {
   "cell_type": "markdown",
   "metadata": {},
   "source": [
    "### TRAIN BG"
   ]
  },
  {
   "cell_type": "markdown",
   "metadata": {},
   "source": [
    "check calcul métrique   "
   ]
  },
  {
   "cell_type": "code",
   "execution_count": 21,
   "metadata": {},
   "outputs": [
    {
     "data": {
      "text/plain": [
       "7.61654578616956e-05"
      ]
     },
     "execution_count": 21,
     "metadata": {},
     "output_type": "execute_result"
    }
   ],
   "source": [
    "from sklearn.cluster import KMeans\n",
    "import pandas as pd\n",
    "from sklearn.metrics.cluster import homogeneity_score\n",
    "import numpy as np\n",
    "\n",
    "df = pd.read_csv(\"data.csv\")\n",
    "\n",
    "X = df.iloc[:, :-1]\n",
    "y = df.iloc[:, -1]\n",
    "\n",
    "y = y.replace('autorisé', 0)\n",
    "y = y.replace('non-autorisé', 1)\n",
    "\n",
    "kmeans = KMeans(n_clusters=len(set(y)),init='k-means++',n_init=100, random_state=42).fit_predict(X)\n",
    "kmeans\n",
    "\n",
    "homogeneity_score(y, kmeans)\n",
    "\n",
    "for cluster in range(len(set(y))):\n",
    "  print('cluster: ', cluster)\n",
    "  print(y[np.where(kmeans == cluster)])"
   ]
  },
  {
   "cell_type": "code",
   "execution_count": 1,
   "metadata": {},
   "outputs": [
    {
     "name": "stdout",
     "output_type": "stream",
     "text": [
      "[LibSVM]Score of the model LogisticRegression : 0.48\n",
      "Sensitivity of the model LogisticRegression : 0.49917898193760263\n",
      "Specificity of the model LogisticRegression : 0.5008210180623973\n",
      "Score of the model SVC : 0.48\n",
      "Sensitivity of the model SVC : 0.5106732348111659\n",
      "Specificity of the model SVC : 0.4893267651888341\n",
      "Score of the model DecisionTreeClassifier : 0.48\n",
      "Sensitivity of the model DecisionTreeClassifier : 0.4926108374384237\n",
      "Specificity of the model DecisionTreeClassifier : 0.5073891625615763\n",
      "Score of the model RandomForestClassifier : 0.62\n",
      "Sensitivity of the model RandomForestClassifier : 0.6469622331691296\n",
      "Specificity of the model RandomForestClassifier : 0.3530377668308704\n",
      "Score of the model XGBClassifier : 0.5\n",
      "Sensitivity of the model XGBClassifier : 0.5287356321839081\n",
      "Specificity of the model XGBClassifier : 0.47126436781609193\n",
      "Score of the model OneVsRestClassifier : 0.58\n",
      "Sensitivity of the model OneVsRestClassifier : 0.5320197044334976\n",
      "Specificity of the model OneVsRestClassifier : 0.46798029556650245\n"
     ]
    }
   ],
   "source": [
    "import pandas as pd\n",
    "import numpy as np\n",
    "from sklearn.model_selection import train_test_split\n",
    "from sklearn.linear_model import LogisticRegression\n",
    "from sklearn.svm import SVC\n",
    "from sklearn.tree import DecisionTreeClassifier\n",
    "from sklearn.ensemble import RandomForestClassifier\n",
    "from sklearn.multiclass import OneVsRestClassifier\n",
    "from xgboost import XGBClassifier\n",
    "from sklearn.metrics import roc_auc_score\n",
    "import mlflow\n",
    "from mlflow import set_tracking_uri, log_metric, log_artifact\n",
    "from joblib import dump\n",
    "import os\n",
    "\n",
    "# Load the csv of embeddings\n",
    "df = pd.read_csv(\"data.csv\")\n",
    "\n",
    "X = df.iloc[:, :-1]\n",
    "y = df.iloc[:, -1]\n",
    "\n",
    "y = y.replace('autorisé', 0)\n",
    "y = y.replace('non-autorisé', 1)\n",
    "\n",
    "# Split the data into training and test data\n",
    "X_train, X_test, y_train, y_test = train_test_split(X, y, test_size=0.25)\n",
    "\n",
    "# Instantiate the classification models\n",
    "models = [\n",
    "  LogisticRegression(), \n",
    "  SVC(probability=True), \n",
    "  DecisionTreeClassifier(), \n",
    "  RandomForestClassifier(),\n",
    "  XGBClassifier(), \n",
    "  OneVsRestClassifier(SVC(kernel='linear', probability=True, verbose=True, max_iter=1000))\n",
    "]\n",
    "\n",
    "# Train the models\n",
    "for model in models:\n",
    "   model.fit(X_train, y_train)\n",
    "\n",
    "# Evaluate the models on the test data\n",
    "for model in models:\n",
    " y_pred = model.predict(X_test)\n",
    " y_score = model.predict_proba(X_test)[:, 1]\n",
    " sensitivity = roc_auc_score(y_test, y_score)\n",
    " specificity = 1 - sensitivity\n",
    " print(f\"Score of the model {model.__class__.__name__} : {model.score(X_test, y_test)}\")\n",
    " print(f\"Sensitivity of the model {model.__class__.__name__} : {sensitivity}\")\n",
    " print(f\"Specificity of the model {model.__class__.__name__} : {specificity}\")\n",
    " log_metric(f\"{model.__class__.__name__}_sensitivity\", sensitivity)\n",
    " log_metric(f\"{model.__class__.__name__}_specificity\", specificity)\n",
    "\n",
    "# Save the results of MLflow\n",
    "set_tracking_uri(\"http://localhost:5000\")\n",
    "\n",
    "# Create a directory for the models if it doesn't exist\n",
    "if not os.path.exists(\"models\"):\n",
    "   os.makedirs(\"models\")\n",
    "\n",
    "# Save the model to a file and log the file as an artifact\n",
    "for model in models:\n",
    "   dump(model, f\"models/{model.__class__.__name__}.joblib\")\n",
    "   log_metric(\"accuracy\", model.score(X_test, y_test))\n",
    "   log_artifact(f\"models/{model.__class__.__name__}.joblib\")\n"
   ]
  }
 ],
 "metadata": {
  "kernelspec": {
   "display_name": "Python 3",
   "language": "python",
   "name": "python3"
  },
  "language_info": {
   "codemirror_mode": {
    "name": "ipython",
    "version": 3
   },
   "file_extension": ".py",
   "mimetype": "text/x-python",
   "name": "python",
   "nbconvert_exporter": "python",
   "pygments_lexer": "ipython3",
   "version": "3.11.3"
  }
 },
 "nbformat": 4,
 "nbformat_minor": 4
}
